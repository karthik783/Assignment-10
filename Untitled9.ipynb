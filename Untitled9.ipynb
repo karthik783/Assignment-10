{
  "nbformat": 4,
  "nbformat_minor": 0,
  "metadata": {
    "colab": {
      "name": "Untitled9.ipynb",
      "provenance": [],
      "authorship_tag": "ABX9TyNs/F9W6DsezZ35skUtoyVO",
      "include_colab_link": true
    },
    "kernelspec": {
      "name": "python3",
      "display_name": "Python 3"
    }
  },
  "cells": [
    {
      "cell_type": "markdown",
      "metadata": {
        "id": "view-in-github",
        "colab_type": "text"
      },
      "source": [
        "<a href=\"https://colab.research.google.com/github/karthik783/Assignment-10/blob/master/Untitled9.ipynb\" target=\"_parent\"><img src=\"https://colab.research.google.com/assets/colab-badge.svg\" alt=\"Open In Colab\"/></a>"
      ]
    },
    {
      "cell_type": "code",
      "metadata": {
        "id": "X2Hz0NNNlgtH",
        "colab_type": "code",
        "colab": {
          "base_uri": "https://localhost:8080/",
          "height": 34
        },
        "outputId": "270ffddc-be8b-4f1d-c8c1-3cc92b75196d"
      },
      "source": [
        "#python program to sum all the items in a dictionary\n",
        "my_dict = {'data1':300,'data2':122,'data3':401}\n",
        "print(sum(my_dict.values()))\n"
      ],
      "execution_count": null,
      "outputs": [
        {
          "output_type": "stream",
          "text": [
            "823\n"
          ],
          "name": "stdout"
        }
      ]
    },
    {
      "cell_type": "code",
      "metadata": {
        "id": "CNYUHC9ultQv",
        "colab_type": "code",
        "colab": {
          "base_uri": "https://localhost:8080/",
          "height": 34
        },
        "outputId": "50e826f2-a649-4e45-dc30-88616193d525"
      },
      "source": [
        "#python program to demonstrate accessing an element from a dictionary\n",
        "num = {'math':100,'physics':90,'biology':61,'chemistry':80}\n",
        "print(list(num)[1])"
      ],
      "execution_count": null,
      "outputs": [
        {
          "output_type": "stream",
          "text": [
            "physics\n"
          ],
          "name": "stdout"
        }
      ]
    },
    {
      "cell_type": "code",
      "metadata": {
        "id": "BDXUPCtcmEZp",
        "colab_type": "code",
        "colab": {
          "base_uri": "https://localhost:8080/",
          "height": 34
        },
        "outputId": "58ed8141-bbf8-4201-e386-096b7087b085"
      },
      "source": [
        "#python program to concate two dictionary\n",
        "dict1={1:22,2:44}\n",
        "dict2={3:32,4:80}\n",
        "dict3={5:90,6:50}\n",
        "dict4={}\n",
        "for d in (dict1,dict2,dict3):dict4.update(d)\n",
        "print(dict4)"
      ],
      "execution_count": null,
      "outputs": [
        {
          "output_type": "stream",
          "text": [
            "{1: 22, 2: 44, 3: 32, 4: 80, 5: 90, 6: 50}\n"
          ],
          "name": "stdout"
        }
      ]
    },
    {
      "cell_type": "code",
      "metadata": {
        "id": "OKoapaqMme1w",
        "colab_type": "code",
        "colab": {
          "base_uri": "https://localhost:8080/",
          "height": 50
        },
        "outputId": "fbb7c6ff-e9ce-45e4-c5ea-4889831fa170"
      },
      "source": [
        "#python program to add keys/values in a dictionary(update dictionary)\n",
        "dict = {'key1':'python','key2':'for'}\n",
        "print(\"current dict is:\",dict)\n",
        "dict['key3'] = 'python'\n",
        "dict['key4'] = 'is'\n",
        "dict['key5'] = 'tough'\n",
        "dict['key6'] = 'program'\n",
        "print(\"update dict is:\",dict)"
      ],
      "execution_count": null,
      "outputs": [
        {
          "output_type": "stream",
          "text": [
            "current dict is: {'key1': 'python', 'key2': 'for'}\n",
            "update dict is: {'key1': 'python', 'key2': 'for', 'key3': 'python', 'key4': 'is', 'key5': 'tough', 'key6': 'program'}\n"
          ],
          "name": "stdout"
        }
      ]
    },
    {
      "cell_type": "code",
      "metadata": {
        "id": "yQ_PduHKmstt",
        "colab_type": "code",
        "colab": {
          "base_uri": "https://localhost:8080/",
          "height": 34
        },
        "outputId": "cdfac70e-43ad-4188-b044-7baebc6bc71a"
      },
      "source": [
        "#python program to find the length of a dictionary in python\n",
        "dict = {'name': 'gitam','year':1};\n",
        "print (\"length : %d\" % len(dict))\n"
      ],
      "execution_count": null,
      "outputs": [
        {
          "output_type": "stream",
          "text": [
            "length : 2\n"
          ],
          "name": "stdout"
        }
      ]
    },
    {
      "cell_type": "code",
      "metadata": {
        "id": "qeYOI-YDm0UA",
        "colab_type": "code",
        "colab": {
          "base_uri": "https://localhost:8080/",
          "height": 50
        },
        "outputId": "75ee6fa8-3c8a-4bf1-ca63-df425bc2cd2f"
      },
      "source": [
        "#python program to remove items from the dictionary in python\n",
        "mydict = {'a':1,'b':2,'c':3,'d':4}\n",
        "print(mydict)\n",
        "if 'a' in mydict:\n",
        "  del mydict['a']\n",
        "print(mydict)"
      ],
      "execution_count": null,
      "outputs": [
        {
          "output_type": "stream",
          "text": [
            "{'a': 1, 'b': 2, 'c': 3, 'd': 4}\n",
            "{'b': 2, 'c': 3, 'd': 4}\n"
          ],
          "name": "stdout"
        }
      ]
    }
  ]
}